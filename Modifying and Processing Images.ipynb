{
 "cells": [
  {
   "cell_type": "markdown",
   "metadata": {},
   "source": [
    "### Loading Pre-trained Models"
   ]
  },
  {
   "cell_type": "code",
   "execution_count": 1,
   "metadata": {},
   "outputs": [],
   "source": [
    "import os\n",
    "import cv2\n",
    "import numpy as np\n",
    "\n",
    "dirr = os.path.dirname('')\n",
    "prototxt = os.path.join(dirr + 'model_data/deploy.prototxt')\n",
    "caffemodel = os.path.join(dirr + 'model_data/weights.caffemodel')\n",
    "\n",
    "model = cv2.dnn.readNetFromCaffe(prototxt, caffemodel)\n",
    "\n",
    "if not os.path.exists('faces'):\n",
    "\tos.makedirs('faces')"
   ]
  },
  {
   "cell_type": "markdown",
   "metadata": {},
   "source": [
    "### Creating a new directory containing cropped faces."
   ]
  },
  {
   "cell_type": "code",
   "execution_count": 3,
   "metadata": {},
   "outputs": [
    {
     "name": "stdout",
     "output_type": "stream",
     "text": [
      "Done 1263 faces.\n"
     ]
    }
   ],
   "source": [
    "count = 0\n",
    "for file in os.listdir(dirr + 'images'):\n",
    "    file_name, file_extension = os.path.splitext(file)\n",
    "    if (file_extension in ['.jpg']):\n",
    "        image = cv2.imread(dirr + 'images/' + file)\n",
    "        if image is None:\n",
    "            continue\n",
    "        (h, w) = image.shape[:2]\n",
    "        blob = cv2.dnn.blobFromImage(cv2.resize(image, (300, 300)), 1.0, (300, 300), (104.0, 177.0, 123.0))\n",
    "\n",
    "        model.setInput(blob)\n",
    "        detections = model.forward()\n",
    "\n",
    "        for i in range(0, detections.shape[2]):\n",
    "            box = detections[0, 0, i, 3:7] * np.array([w, h, w, h])\n",
    "            (SX, SY, EX, EY) = box.astype(\"int\")\n",
    "\n",
    "            confidence = detections[0, 0, i, 2]\n",
    "\n",
    "            # If confidence > 0.5, save it as a separate file\n",
    "            if (confidence > 0.5):\n",
    "                count += 1\n",
    "                frame = image[SY:EY, SX:EX]\n",
    "                cv2.imwrite(dirr + 'faces/' + str(i) + '_' + file, frame)\n",
    "\n",
    "print(\"Done \" + str(count) + \" faces.\")"
   ]
  },
  {
   "cell_type": "code",
   "execution_count": 14,
   "metadata": {},
   "outputs": [],
   "source": [
    "dirr = '\\Data\\Blood_noblood\\\\'\n",
    "dirrnb = dirr + 'noblood/'\n",
    "dirrb = dirr + 'blood/'"
   ]
  },
  {
   "cell_type": "code",
   "execution_count": 4,
   "metadata": {},
   "outputs": [],
   "source": [
    "# removing corrupt images\n",
    "def get_corrupt(dirr):\n",
    "    corrupt = []\n",
    "    for filename in listdir(dirr):\n",
    "        if filename.endswith('.jpg'):\n",
    "            try:\n",
    "                img = Image.open(dirr+filename)\n",
    "                img.verify()\n",
    "            except (IOError, SyntaxError) as e:\n",
    "                corrupt.append(filename)\n",
    "    return corrupt"
   ]
  },
  {
   "cell_type": "code",
   "execution_count": 67,
   "metadata": {},
   "outputs": [],
   "source": [
    "def removeFiles(files):\n",
    "    for f in files:\n",
    "        os.remove(f)"
   ]
  },
  {
   "cell_type": "code",
   "execution_count": 48,
   "metadata": {},
   "outputs": [],
   "source": [
    "img = Image.open('sample.jpg')"
   ]
  },
  {
   "cell_type": "markdown",
   "metadata": {},
   "source": [
    "### To find wrong resolution images (too wide or long)"
   ]
  },
  {
   "cell_type": "code",
   "execution_count": 75,
   "metadata": {},
   "outputs": [],
   "source": [
    "def short(dirr):\n",
    "\n",
    "    short = []\n",
    "    for filename in listdir(dirr):\n",
    "        filename = os.path.join(dirr, filename)\n",
    "        if filename.endswith('.jpg'):\n",
    "            img = Image.open(filename)\n",
    "            if img.height < 80 or img.width < 110:\n",
    "                short.append(filename)\n",
    "\n",
    "    print(len(short))\n",
    "    return short"
   ]
  },
  {
   "cell_type": "markdown",
   "metadata": {},
   "source": [
    "### To get only red portion of image"
   ]
  },
  {
   "cell_type": "code",
   "execution_count": 7,
   "metadata": {},
   "outputs": [],
   "source": [
    "def getRed(img):\n",
    "    img[:, :, :2] = 0\n",
    "    return img\n",
    "\n",
    "def show(frame):\n",
    "    cv2.imshow('frame',frame)\n",
    "    k = cv2.waitKey(0) & 0xFF\n",
    "    cv2.destroyAllWindows()"
   ]
  },
  {
   "cell_type": "code",
   "execution_count": 5,
   "metadata": {},
   "outputs": [],
   "source": [
    "img = cv2.imread('sample_blood.jpg')"
   ]
  },
  {
   "cell_type": "code",
   "execution_count": 9,
   "metadata": {},
   "outputs": [],
   "source": [
    "show(img)\n",
    "show(getRed(img))"
   ]
  },
  {
   "cell_type": "code",
   "execution_count": 27,
   "metadata": {},
   "outputs": [],
   "source": [
    "faces = base_dir + 'faces/'\n",
    "def makeRed(dirr):\n",
    "    for filename in os.listdir(dirr):\n",
    "        if not filename.endswith('.jpg'):\n",
    "            continue\n",
    "        img = cv2.imread(os.path.join(dirr, filename))\n",
    "        img[:, :,:2] = 0\n",
    "        cv2.imwrite(faces + filename, img)"
   ]
  },
  {
   "cell_type": "code",
   "execution_count": 24,
   "metadata": {},
   "outputs": [],
   "source": [
    "dirrb = r'Data\\Blood_noblood_processed\\blood'\n",
    "dirrnb = r'Data\\Blood_noblood_processed\\noblood'"
   ]
  }
 ],
 "metadata": {
  "kernelspec": {
   "display_name": "Python 3",
   "language": "python",
   "name": "python3"
  },
  "language_info": {
   "codemirror_mode": {
    "name": "ipython",
    "version": 3
   },
   "file_extension": ".py",
   "mimetype": "text/x-python",
   "name": "python",
   "nbconvert_exporter": "python",
   "pygments_lexer": "ipython3",
   "version": "3.7.5"
  }
 },
 "nbformat": 4,
 "nbformat_minor": 2
}
