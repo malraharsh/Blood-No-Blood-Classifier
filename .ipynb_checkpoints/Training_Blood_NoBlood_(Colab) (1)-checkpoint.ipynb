{
 "cells": [
  {
   "cell_type": "code",
   "execution_count": null,
   "metadata": {
    "colab": {
     "base_uri": "https://localhost:8080/",
     "height": 34
    },
    "id": "Bj56MWzB0T2z",
    "outputId": "abc7a9ae-16e5-40be-8f3a-280cd4805294"
   },
   "outputs": [
    {
     "name": "stdout",
     "output_type": "stream",
     "text": [
      "/content\n"
     ]
    }
   ],
   "source": [
    "!pwd"
   ]
  },
  {
   "cell_type": "code",
   "execution_count": null,
   "metadata": {
    "colab": {
     "base_uri": "https://localhost:8080/",
     "height": 330
    },
    "id": "n6zDBQXzzcwQ",
    "outputId": "4c74c0c7-89e9-4e1e-8a71-a7c01f28aee0"
   },
   "outputs": [
    {
     "name": "stdout",
     "output_type": "stream",
     "text": [
      "Failed to detect face\n",
      "Failed to detect face\n",
      "Failed to detect face\n",
      "Found 1 faces!\n",
      "24 7 223 223\n",
      "cropped_24/content/Blood_noblood/blood/blood_177.jpg\n"
     ]
    },
    {
     "ename": "error",
     "evalue": "ignored",
     "output_type": "error",
     "traceback": [
      "\u001b[0;31m---------------------------------------------------------------------------\u001b[0m",
      "\u001b[0;31merror\u001b[0m                                     Traceback (most recent call last)",
      "\u001b[0;32m<ipython-input-49-21816070363c>\u001b[0m in \u001b[0;36m<module>\u001b[0;34m()\u001b[0m\n\u001b[1;32m     50\u001b[0m \u001b[0;34m\u001b[0m\u001b[0m\n\u001b[1;32m     51\u001b[0m     \u001b[0mprint\u001b[0m\u001b[0;34m(\u001b[0m\u001b[0;34m\"cropped_{1}{0}\"\u001b[0m\u001b[0;34m.\u001b[0m\u001b[0mformat\u001b[0m\u001b[0;34m(\u001b[0m\u001b[0mstr\u001b[0m\u001b[0;34m(\u001b[0m\u001b[0mfile\u001b[0m\u001b[0;34m)\u001b[0m\u001b[0;34m,\u001b[0m\u001b[0mstr\u001b[0m\u001b[0;34m(\u001b[0m\u001b[0mx\u001b[0m\u001b[0;34m)\u001b[0m\u001b[0;34m)\u001b[0m\u001b[0;34m)\u001b[0m\u001b[0;34m\u001b[0m\u001b[0;34m\u001b[0m\u001b[0m\n\u001b[0;32m---> 52\u001b[0;31m     \u001b[0mcv2\u001b[0m\u001b[0;34m.\u001b[0m\u001b[0mimwrite\u001b[0m\u001b[0;34m(\u001b[0m\u001b[0mstr\u001b[0m\u001b[0;34m(\u001b[0m\u001b[0mi\u001b[0m\u001b[0;34m)\u001b[0m\u001b[0;34m,\u001b[0m \u001b[0mimage\u001b[0m\u001b[0;34m)\u001b[0m\u001b[0;34m\u001b[0m\u001b[0;34m\u001b[0m\u001b[0m\n\u001b[0m\u001b[1;32m     53\u001b[0m     \u001b[0mi\u001b[0m \u001b[0;34m+=\u001b[0m \u001b[0;36m1\u001b[0m\u001b[0;34m\u001b[0m\u001b[0;34m\u001b[0m\u001b[0m\n",
      "\u001b[0;31merror\u001b[0m: OpenCV(4.1.2) /io/opencv/modules/imgcodecs/src/loadsave.cpp:715: error: (-215:Assertion failed) !_img.empty() in function 'imwrite'\n"
     ]
    }
   ],
   "source": [
    "import cv2\n",
    "import sys\n",
    "import glob \n",
    "\n",
    "cascPath = \"haarcascade_frontalface_default.xml\"\n",
    "\n",
    "# Create the haar cascade\n",
    "faceCascade = cv2.CascadeClassifier(cascPath)\n",
    "\n",
    "files=glob.glob(\"/content/Blood_noblood/*/*.jpg\",)   \n",
    "# print(files)\n",
    "for file in files:\n",
    "\n",
    "    # Read the image\n",
    "    image = cv2.imread(file)\n",
    "    gray = cv2.cvtColor(image, cv2.COLOR_BGR2GRAY)\n",
    "\n",
    "    # Detect faces in the image\n",
    "    faces = faceCascade.detectMultiScale(\n",
    "        gray,\n",
    "        scaleFactor=1.1,\n",
    "        minNeighbors=5,\n",
    "        minSize=(30, 30),\n",
    "        flags = cv2.CASCADE_SCALE_IMAGE\n",
    "    )\n",
    "\n",
    "    # if no faces are detected then continue\n",
    "    if (len(faces) == 0):\n",
    "            print('Failed to detect face')\n",
    "            continue\n",
    "            \n",
    "    print(\"Found {0} faces!\".format(len(faces)))\n",
    "\n",
    "    # Crop Padding\n",
    "    left = 10\n",
    "    right = 10\n",
    "    top = 10\n",
    "    bottom = 10\n",
    "\n",
    "    # Draw a rectangle around the faces\n",
    "    for (x, y, w, h) in faces:\n",
    "        print(x, y, w, h)\n",
    "\n",
    "        # Dubugging boxes\n",
    "        # cv2.rectangle(image, (x, y), (x+w, y+h), (0, 255, 0), 2)\n",
    "\n",
    "\n",
    "    image  = image[y-top:y+h+bottom, x-left:x+w+right]\n",
    "\n",
    "    print(\"cropped_{1}{0}\".format(str(file),str(x)))\n",
    "    cv2.imwrite(\"{1}_{0}\".format(str(file),str(x)), image)"
   ]
  },
  {
   "cell_type": "code",
   "execution_count": null,
   "metadata": {
    "id": "AWTtPvW9zckc"
   },
   "outputs": [],
   "source": []
  },
  {
   "cell_type": "code",
   "execution_count": null,
   "metadata": {
    "id": "HuAjqB5RWkkQ"
   },
   "outputs": [],
   "source": [
    "import argparse\n",
    "import os\n",
    "import random\n",
    "\n",
    "import numpy as np\n",
    "import pandas as pd\n",
    "\n",
    "import matplotlib.pyplot as plt\n",
    "from imutils import paths\n",
    "from sklearn.metrics import (accuracy_score, classification_report,\n",
    "                             confusion_matrix)\n",
    "from sklearn.model_selection import train_test_split\n",
    "from sklearn.preprocessing import LabelBinarizer\n",
    "from tensorflow.keras.applications import MobileNetV2\n",
    "from tensorflow.keras.applications.mobilenet_v2 import preprocess_input\n",
    "from tensorflow.keras.layers import (\n",
    "    AveragePooling2D, Dense, Dropout, Flatten, Input, MaxPooling2D)\n",
    "from tensorflow.keras.models import Model, load_model, Sequential\n",
    "from tensorflow.keras.optimizers import Adam\n",
    "from tensorflow.keras.preprocessing.image import (ImageDataGenerator,\n",
    "                                                  img_to_array, load_img)\n",
    "from tensorflow.keras.utils import to_categorical\n",
    "\n",
    "from PIL import Image"
   ]
  },
  {
   "cell_type": "code",
   "execution_count": null,
   "metadata": {
    "id": "C3OaXrcdfq1E"
   },
   "outputs": [],
   "source": [
    "import zipfile\n",
    "zip = zipfile.ZipFile('/content/drive/My Drive/Others/Blood_noblood.zip','r')\n",
    "zip.extractall('/content/')\n",
    "zip.close()"
   ]
  },
  {
   "cell_type": "code",
   "execution_count": null,
   "metadata": {
    "id": "zVTnxrHsX7Li"
   },
   "outputs": [],
   "source": [
    "data_dir = 'Blood_noblood'\n",
    "blood_dir = os.path.join(data_dir, 'blood')\n",
    "noblood_dir = os.path.join(data_dir, 'noblood')"
   ]
  },
  {
   "cell_type": "code",
   "execution_count": null,
   "metadata": {
    "id": "AiQFTUREYzyi"
   },
   "outputs": [],
   "source": [
    "def getFiles(path):\n",
    "    return ([os.path.join(path, p) for p in os.listdir(path)])\n",
    "\n",
    "def getCorrupted(df):\n",
    "    corrupted = []\n",
    "    for impath in df.files:\n",
    "        try:\n",
    "            plt.imread(impath)\n",
    "        except:\n",
    "            corrupted.append(impath)\n",
    "    return corrupted\n",
    "            \n",
    "def removeCorrupted(df, corrupted):\n",
    "    todrop = df[[f in corrupted for f in df['files']]].index\n",
    "    print(\"Removed {}\".format(len(corrupted)))\n",
    "    return df.drop(todrop)\n"
   ]
  },
  {
   "cell_type": "code",
   "execution_count": null,
   "metadata": {
    "colab": {
     "base_uri": "https://localhost:8080/",
     "height": 50
    },
    "id": "NRMskf8hY0-P",
    "outputId": "f1419771-4a87-47c7-e42a-e97715f8c12e"
   },
   "outputs": [
    {
     "name": "stdout",
     "output_type": "stream",
     "text": [
      "Removed 0\n",
      "Removed 1\n"
     ]
    }
   ],
   "source": [
    "df_blood = pd.DataFrame({'files': getFiles(blood_dir), 'labels': '1'})\n",
    "df_noblood = pd.DataFrame({'files': getFiles(noblood_dir), 'labels': '0'})\n",
    "\n",
    "corrupted_blood = getCorrupted(df_blood)\n",
    "corrupted_noblood = getCorrupted(df_noblood)\n",
    "\n",
    "df_blood = removeCorrupted(df_blood, corrupted_blood)\n",
    "df_noblood = removeCorrupted(df_noblood, corrupted_noblood)"
   ]
  },
  {
   "cell_type": "code",
   "execution_count": null,
   "metadata": {
    "colab": {
     "base_uri": "https://localhost:8080/",
     "height": 195
    },
    "id": "t2Emg1cYY9G9",
    "outputId": "d048ce2b-060e-4db3-eaa5-fb01b8a30981"
   },
   "outputs": [
    {
     "data": {
      "text/html": [
       "<div>\n",
       "<style scoped>\n",
       "    .dataframe tbody tr th:only-of-type {\n",
       "        vertical-align: middle;\n",
       "    }\n",
       "\n",
       "    .dataframe tbody tr th {\n",
       "        vertical-align: top;\n",
       "    }\n",
       "\n",
       "    .dataframe thead th {\n",
       "        text-align: right;\n",
       "    }\n",
       "</style>\n",
       "<table border=\"1\" class=\"dataframe\">\n",
       "  <thead>\n",
       "    <tr style=\"text-align: right;\">\n",
       "      <th></th>\n",
       "      <th>files</th>\n",
       "      <th>labels</th>\n",
       "    </tr>\n",
       "  </thead>\n",
       "  <tbody>\n",
       "    <tr>\n",
       "      <th>0</th>\n",
       "      <td>Blood_noblood/blood/blood_52.jpg</td>\n",
       "      <td>1</td>\n",
       "    </tr>\n",
       "    <tr>\n",
       "      <th>1</th>\n",
       "      <td>Blood_noblood/blood/blood_219.jpg</td>\n",
       "      <td>1</td>\n",
       "    </tr>\n",
       "    <tr>\n",
       "      <th>2</th>\n",
       "      <td>Blood_noblood/blood/blood_90.jpg</td>\n",
       "      <td>1</td>\n",
       "    </tr>\n",
       "    <tr>\n",
       "      <th>3</th>\n",
       "      <td>Blood_noblood/blood/blood_177.jpg</td>\n",
       "      <td>1</td>\n",
       "    </tr>\n",
       "    <tr>\n",
       "      <th>4</th>\n",
       "      <td>Blood_noblood/blood/blood_56.jpg</td>\n",
       "      <td>1</td>\n",
       "    </tr>\n",
       "  </tbody>\n",
       "</table>\n",
       "</div>"
      ],
      "text/plain": [
       "                               files labels\n",
       "0   Blood_noblood/blood/blood_52.jpg      1\n",
       "1  Blood_noblood/blood/blood_219.jpg      1\n",
       "2   Blood_noblood/blood/blood_90.jpg      1\n",
       "3  Blood_noblood/blood/blood_177.jpg      1\n",
       "4   Blood_noblood/blood/blood_56.jpg      1"
      ]
     },
     "execution_count": 7,
     "metadata": {
      "tags": []
     },
     "output_type": "execute_result"
    }
   ],
   "source": [
    "df = pd.concat([df_blood, df_noblood])\n",
    "df.reset_index(drop=True, inplace=True)\n",
    "df.head()"
   ]
  },
  {
   "cell_type": "code",
   "execution_count": null,
   "metadata": {
    "id": "jW-dHT9GbRvJ"
   },
   "outputs": [],
   "source": [
    "# sample = df.loc[0][0]\n",
    "# Image.open(sample)"
   ]
  },
  {
   "cell_type": "code",
   "execution_count": null,
   "metadata": {
    "colab": {
     "base_uri": "https://localhost:8080/",
     "height": 279
    },
    "id": "1oG-OQ98Y98w",
    "outputId": "d05440af-b189-4730-c9b9-81ffcd52c1bb"
   },
   "outputs": [
    {
     "data": {
      "text/plain": [
       "<matplotlib.axes._subplots.AxesSubplot at 0x7f75c4e86e10>"
      ]
     },
     "execution_count": 9,
     "metadata": {
      "tags": []
     },
     "output_type": "execute_result"
    },
    {
     "data": {
      "image/png": "[encoded data removed]",
      "text/plain": [
       "<Figure size 432x288 with 1 Axes>"
      ]
     },
     "metadata": {
      "needs_background": "light",
      "tags": []
     },
     "output_type": "display_data"
    }
   ],
   "source": [
    "df['labels'].value_counts().plot.bar()"
   ]
  },
  {
   "cell_type": "code",
   "execution_count": null,
   "metadata": {
    "colab": {
     "base_uri": "https://localhost:8080/",
     "height": 50
    },
    "id": "9_DXDcPuY-rZ",
    "outputId": "af4a75e3-a8c8-40d6-e8cb-c906963c7432"
   },
   "outputs": [
    {
     "name": "stdout",
     "output_type": "stream",
     "text": [
      "Found 580 validated image filenames belonging to 2 classes.\n",
      "Found 249 validated image filenames belonging to 2 classes.\n"
     ]
    }
   ],
   "source": [
    "IMAGE_WIDTH=224\n",
    "IMAGE_HEIGHT=224\n",
    "IMAGE_CHANNELS=3\n",
    "IMAGE_SIZE=(IMAGE_WIDTH, IMAGE_HEIGHT)\n",
    "IMAGE_SHAPE=(IMAGE_WIDTH, IMAGE_HEIGHT, IMAGE_CHANNELS)\n",
    "\n",
    "train_df, val_df = train_test_split(df, test_size=0.30, random_state=0, stratify=df.labels)\n",
    "train_df = train_df.reset_index(drop=True)\n",
    "val_df = val_df.reset_index(drop=True)\n",
    "\n",
    "size_train = train_df.shape[0]\n",
    "size_val = val_df.shape[0]\n",
    "BATCH_SIZE = 32\n",
    "\n",
    "train_datagen = ImageDataGenerator(\n",
    "    rotation_range=20,\n",
    "    rescale=1./255,\n",
    "    shear_range=0.1,\n",
    "    zoom_range=0.25,\n",
    "    horizontal_flip=True,\n",
    "    width_shift_range=0.1,\n",
    "    height_shift_range=0.1\n",
    ")\n",
    "\n",
    "train_generator = train_datagen.flow_from_dataframe(\n",
    "    train_df,\n",
    "    x_col='files',\n",
    "    y_col='labels',\n",
    "    target_size=IMAGE_SIZE,\n",
    "    class_mode='binary',\n",
    "    batch_size=BATCH_SIZE\n",
    ")\n",
    "\n",
    "validation_datagen = ImageDataGenerator(rescale=1./255)\n",
    "validation_generator = validation_datagen.flow_from_dataframe(\n",
    "    val_df, \n",
    "    x_col='files',\n",
    "    y_col='labels',\n",
    "    target_size=IMAGE_SIZE,\n",
    "    class_mode='binary',\n",
    "    batch_size=BATCH_SIZE\n",
    ")\n"
   ]
  },
  {
   "cell_type": "code",
   "execution_count": null,
   "metadata": {
    "colab": {
     "base_uri": "https://localhost:8080/",
     "height": 195
    },
    "id": "2lYOg_4ytyJl",
    "outputId": "d43422a4-0617-4db8-edfb-77f9ece6885e"
   },
   "outputs": [
    {
     "data": {
      "text/html": [
       "<div>\n",
       "<style scoped>\n",
       "    .dataframe tbody tr th:only-of-type {\n",
       "        vertical-align: middle;\n",
       "    }\n",
       "\n",
       "    .dataframe tbody tr th {\n",
       "        vertical-align: top;\n",
       "    }\n",
       "\n",
       "    .dataframe thead th {\n",
       "        text-align: right;\n",
       "    }\n",
       "</style>\n",
       "<table border=\"1\" class=\"dataframe\">\n",
       "  <thead>\n",
       "    <tr style=\"text-align: right;\">\n",
       "      <th></th>\n",
       "      <th>files</th>\n",
       "      <th>labels</th>\n",
       "    </tr>\n",
       "  </thead>\n",
       "  <tbody>\n",
       "    <tr>\n",
       "      <th>0</th>\n",
       "      <td>Blood_noblood/blood/blood_170.jpg</td>\n",
       "      <td>1</td>\n",
       "    </tr>\n",
       "    <tr>\n",
       "      <th>1</th>\n",
       "      <td>Blood_noblood/noblood/noblood_261.jpg</td>\n",
       "      <td>0</td>\n",
       "    </tr>\n",
       "    <tr>\n",
       "      <th>2</th>\n",
       "      <td>Blood_noblood/blood/blood_3.jpg</td>\n",
       "      <td>1</td>\n",
       "    </tr>\n",
       "    <tr>\n",
       "      <th>3</th>\n",
       "      <td>Blood_noblood/blood/blood_390.jpg</td>\n",
       "      <td>1</td>\n",
       "    </tr>\n",
       "    <tr>\n",
       "      <th>4</th>\n",
       "      <td>Blood_noblood/blood/blood_9.jpg</td>\n",
       "      <td>1</td>\n",
       "    </tr>\n",
       "  </tbody>\n",
       "</table>\n",
       "</div>"
      ],
      "text/plain": [
       "                                   files labels\n",
       "0      Blood_noblood/blood/blood_170.jpg      1\n",
       "1  Blood_noblood/noblood/noblood_261.jpg      0\n",
       "2        Blood_noblood/blood/blood_3.jpg      1\n",
       "3      Blood_noblood/blood/blood_390.jpg      1\n",
       "4        Blood_noblood/blood/blood_9.jpg      1"
      ]
     },
     "execution_count": 24,
     "metadata": {
      "tags": []
     },
     "output_type": "execute_result"
    }
   ],
   "source": [
    "train_df.head()"
   ]
  },
  {
   "cell_type": "code",
   "execution_count": null,
   "metadata": {
    "colab": {
     "base_uri": "https://localhost:8080/",
     "height": 54
    },
    "id": "Paa2zrWCZD-F",
    "outputId": "04f8618a-808c-4577-add6-0a1f9c3ad128"
   },
   "outputs": [
    {
     "name": "stdout",
     "output_type": "stream",
     "text": [
      "WARNING:tensorflow:`input_shape` is undefined or non-square, or `rows` is not in [96, 128, 160, 192, 224]. Weights for input shape (224, 224) will be loaded as the default.\n"
     ]
    }
   ],
   "source": [
    "base = MobileNetV2(input_tensor=Input(shape=(224, 224, 3)), weights=\"imagenet\", include_top=False)"
   ]
  },
  {
   "cell_type": "code",
   "execution_count": null,
   "metadata": {
    "colab": {
     "base_uri": "https://localhost:8080/",
     "height": 420
    },
    "id": "BGRUG_3TZk3T",
    "outputId": "d42db992-5a8f-47c2-a436-c5490808f87d"
   },
   "outputs": [
    {
     "name": "stdout",
     "output_type": "stream",
     "text": [
      "Model: \"sequential_3\"\n",
      "_________________________________________________________________\n",
      "Layer (type)                 Output Shape              Param #   \n",
      "=================================================================\n",
      "mobilenetv2_1.00_224 (Functi (None, 7, 7, 1280)        2257984   \n",
      "_________________________________________________________________\n",
      "average_pooling2d_2 (Average (None, 1, 1, 1280)        0         \n",
      "_________________________________________________________________\n",
      "flatten_3 (Flatten)          (None, 1280)              0         \n",
      "_________________________________________________________________\n",
      "dense_9 (Dense)              (None, 128)               163968    \n",
      "_________________________________________________________________\n",
      "dropout_5 (Dropout)          (None, 128)               0         \n",
      "_________________________________________________________________\n",
      "dense_10 (Dense)             (None, 128)               16512     \n",
      "_________________________________________________________________\n",
      "dropout_6 (Dropout)          (None, 128)               0         \n",
      "_________________________________________________________________\n",
      "dense_11 (Dense)             (None, 2)                 258       \n",
      "=================================================================\n",
      "Total params: 2,438,722\n",
      "Trainable params: 180,738\n",
      "Non-trainable params: 2,257,984\n",
      "_________________________________________________________________\n"
     ]
    }
   ],
   "source": [
    "model = Sequential()\n",
    "model.add(base)\n",
    "model.add(AveragePooling2D(pool_size=(5, 5)))\n",
    "model.add(Flatten())\n",
    "model.add(Dense(128, activation=\"relu\"))\n",
    "model.add(Dropout(0.4))\n",
    "model.add(Dense(128, activation=\"relu\"))\n",
    "model.add(Dropout(0.4))\n",
    "model.add(Dense(2, activation=\"softmax\"))\n",
    "\n",
    "base.trainable = False\n",
    "          \n",
    "optimizer = Adam(lr=1e-4)\n",
    "model.compile(loss=\"binary_crossentropy\", optimizer=optimizer, metrics=[\"accuracy\"])\n",
    "model.summary()"
   ]
  },
  {
   "cell_type": "code",
   "execution_count": null,
   "metadata": {
    "colab": {
     "base_uri": "https://localhost:8080/",
     "height": 689
    },
    "id": "2jzdXxs7ZItt",
    "outputId": "58868935-6757-44cd-d79e-770b4f2d691f"
   },
   "outputs": [
    {
     "name": "stdout",
     "output_type": "stream",
     "text": [
      "Epoch 1/20\n",
      "7/7 - 13s - loss: 1.1261 - accuracy: 0.5357 - val_loss: 0.7589 - val_accuracy: 0.5491\n",
      "Epoch 2/20\n",
      "7/7 - 11s - loss: 0.9964 - accuracy: 0.4509 - val_loss: 0.8004 - val_accuracy: 0.5134\n",
      "Epoch 3/20\n",
      "7/7 - 10s - loss: 0.9598 - accuracy: 0.4866 - val_loss: 0.7628 - val_accuracy: 0.5402\n",
      "Epoch 4/20\n",
      "7/7 - 12s - loss: 0.9067 - accuracy: 0.4464 - val_loss: 0.7367 - val_accuracy: 0.5089\n",
      "Epoch 5/20\n",
      "7/7 - 11s - loss: 0.8923 - accuracy: 0.5179 - val_loss: 0.7225 - val_accuracy: 0.5268\n",
      "Epoch 6/20\n",
      "7/7 - 10s - loss: 0.8365 - accuracy: 0.4796 - val_loss: 0.7178 - val_accuracy: 0.5000\n",
      "Epoch 7/20\n",
      "7/7 - 11s - loss: 0.8208 - accuracy: 0.5491 - val_loss: 0.7139 - val_accuracy: 0.4911\n",
      "Epoch 8/20\n",
      "7/7 - 11s - loss: 0.8014 - accuracy: 0.4554 - val_loss: 0.7128 - val_accuracy: 0.4866\n",
      "Epoch 9/20\n",
      "7/7 - 9s - loss: 0.8153 - accuracy: 0.5051 - val_loss: 0.7116 - val_accuracy: 0.4911\n",
      "Epoch 10/20\n",
      "7/7 - 11s - loss: 0.7874 - accuracy: 0.4777 - val_loss: 0.7109 - val_accuracy: 0.4911\n",
      "Epoch 11/20\n",
      "7/7 - 10s - loss: 0.7721 - accuracy: 0.4490 - val_loss: 0.7086 - val_accuracy: 0.4955\n",
      "Epoch 12/20\n",
      "7/7 - 11s - loss: 0.7977 - accuracy: 0.5459 - val_loss: 0.7076 - val_accuracy: 0.5000\n",
      "Epoch 13/20\n",
      "7/7 - 11s - loss: 0.7716 - accuracy: 0.5255 - val_loss: 0.7070 - val_accuracy: 0.5134\n",
      "Epoch 14/20\n",
      "7/7 - 11s - loss: 0.7626 - accuracy: 0.5580 - val_loss: 0.7054 - val_accuracy: 0.5089\n",
      "Epoch 15/20\n",
      "7/7 - 11s - loss: 0.7447 - accuracy: 0.5536 - val_loss: 0.7054 - val_accuracy: 0.5045\n",
      "Epoch 16/20\n",
      "7/7 - 11s - loss: 0.7620 - accuracy: 0.4554 - val_loss: 0.7054 - val_accuracy: 0.5045\n",
      "Epoch 17/20\n",
      "7/7 - 10s - loss: 0.7465 - accuracy: 0.5045 - val_loss: 0.7049 - val_accuracy: 0.5179\n",
      "Epoch 18/20\n",
      "7/7 - 11s - loss: 0.7399 - accuracy: 0.5402 - val_loss: 0.7044 - val_accuracy: 0.5000\n",
      "Epoch 19/20\n",
      "7/7 - 11s - loss: 0.7405 - accuracy: 0.4898 - val_loss: 0.7024 - val_accuracy: 0.5000\n",
      "Epoch 20/20\n",
      "7/7 - 11s - loss: 0.7389 - accuracy: 0.5408 - val_loss: 0.7020 - val_accuracy: 0.5223\n"
     ]
    }
   ],
   "source": [
    "EPOCHS = 20 #10 20\n",
    "history = model.fit(\n",
    "            train_generator,\n",
    "            steps_per_epoch=size_val // BATCH_SIZE,\n",
    "            validation_data = validation_generator,\n",
    "            epochs = EPOCHS,\n",
    "            validation_steps=size_val // BATCH_SIZE,\n",
    "            verbose=2)"
   ]
  },
  {
   "cell_type": "code",
   "execution_count": null,
   "metadata": {
    "id": "Jdw3ISWLwOM1"
   },
   "outputs": [],
   "source": []
  },
  {
   "cell_type": "code",
   "execution_count": null,
   "metadata": {
    "id": "tDgSjM3ZwOAZ"
   },
   "outputs": [],
   "source": []
  },
  {
   "cell_type": "code",
   "execution_count": null,
   "metadata": {
    "colab": {
     "base_uri": "https://localhost:8080/",
     "height": 390
    },
    "id": "U0jnExFqwGoq",
    "outputId": "4ed6f575-fd46-41e3-8c77-8d7ff97bcaf3"
   },
   "outputs": [
    {
     "name": "stdout",
     "output_type": "stream",
     "text": [
      "WARNING:tensorflow:`input_shape` is undefined or non-square, or `rows` is not in [96, 128, 160, 192, 224]. Weights for input shape (224, 224) will be loaded as the default.\n",
      "Epoch 1/10\n",
      "7/7 - 13s - loss: 0.9469 - accuracy: 0.4777 - val_loss: 0.7729 - val_accuracy: 0.4732\n",
      "Epoch 2/10\n",
      "7/7 - 11s - loss: 0.8979 - accuracy: 0.4911 - val_loss: 0.7553 - val_accuracy: 0.4955\n",
      "Epoch 3/10\n",
      "7/7 - 11s - loss: 0.8553 - accuracy: 0.4643 - val_loss: 0.7558 - val_accuracy: 0.5312\n",
      "Epoch 4/10\n",
      "7/7 - 10s - loss: 0.8303 - accuracy: 0.4745 - val_loss: 0.7378 - val_accuracy: 0.5268\n",
      "Epoch 5/10\n",
      "7/7 - 11s - loss: 0.8075 - accuracy: 0.5153 - val_loss: 0.7399 - val_accuracy: 0.5402\n",
      "Epoch 6/10\n",
      "7/7 - 11s - loss: 0.8033 - accuracy: 0.4745 - val_loss: 0.7291 - val_accuracy: 0.5312\n",
      "Epoch 7/10\n",
      "7/7 - 11s - loss: 0.7910 - accuracy: 0.4955 - val_loss: 0.7228 - val_accuracy: 0.5312\n",
      "Epoch 8/10\n",
      "7/7 - 11s - loss: 0.7731 - accuracy: 0.4745 - val_loss: 0.7190 - val_accuracy: 0.4911\n",
      "Epoch 9/10\n",
      "7/7 - 11s - loss: 0.7546 - accuracy: 0.4598 - val_loss: 0.7159 - val_accuracy: 0.5312\n",
      "Epoch 10/10\n",
      "7/7 - 11s - loss: 0.7440 - accuracy: 0.4898 - val_loss: 0.7121 - val_accuracy: 0.5268\n"
     ]
    }
   ],
   "source": [
    "# and batch size\n",
    "INIT_LR = 1e-4\n",
    "EPOCHS = 30\n",
    "BS = 32\n",
    "\n",
    "# load the MobileNetV2 network, leaving the head FC layer sets\n",
    "baseModel = MobileNetV2(weights=\"imagenet\", include_top=False, input_tensor=Input(shape=(224, 224, 3)))\n",
    "\n",
    "# construct the head of the model that will be placed on top of the\n",
    "# the base model\n",
    "headModel = baseModel.output\n",
    "headModel = AveragePooling2D(pool_size=(7, 7))(headModel)\n",
    "headModel = Flatten(name=\"flatten\")(headModel)\n",
    "headModel = Dense(128, activation=\"relu\")(headModel)\n",
    "headModel = Dropout(0.5)(headModel)\n",
    "headModel = Dense(2, activation=\"softmax\")(headModel)\n",
    "\n",
    "# place the head FC model on top of the base model\n",
    "model = Model(inputs=baseModel.input, outputs=headModel)\n",
    "\n",
    "# loop over all layers in the base model and freeze them so they wil \n",
    "# dont get updated during the first training process\n",
    "for layer in baseModel.layers:\n",
    "    layer.trainable = False\n",
    "\n",
    "# compile our model\n",
    "opt = Adam(lr=INIT_LR, decay=INIT_LR / EPOCHS)\n",
    "model.compile(loss=\"binary_crossentropy\", optimizer=opt,\n",
    "    metrics=[\"accuracy\"])\n",
    "\n",
    "\n",
    "H = model.fit(\n",
    "            train_generator,\n",
    "            steps_per_epoch=size_val // BATCH_SIZE,\n",
    "            validation_data = validation_generator,\n",
    "            epochs = 10,\n",
    "            validation_steps=size_val // BATCH_SIZE,\n",
    "            verbose=2)"
   ]
  },
  {
   "cell_type": "code",
   "execution_count": null,
   "metadata": {
    "id": "_ymTe5CGwGcK"
   },
   "outputs": [],
   "source": []
  },
  {
   "cell_type": "code",
   "execution_count": null,
   "metadata": {
    "id": "gwY4tMkPwGQi"
   },
   "outputs": [],
   "source": []
  },
  {
   "cell_type": "code",
   "execution_count": null,
   "metadata": {
    "id": "hD3kdNe9wF_a"
   },
   "outputs": [],
   "source": []
  },
  {
   "cell_type": "code",
   "execution_count": null,
   "metadata": {
    "id": "9zKGhI3bwFcd"
   },
   "outputs": [],
   "source": []
  },
  {
   "cell_type": "code",
   "execution_count": null,
   "metadata": {
    "colab": {
     "base_uri": "https://localhost:8080/",
     "height": 185
    },
    "id": "pbPdQdDdsUQR",
    "outputId": "54360493-1d12-419a-d1dc-ce1bdcb10025"
   },
   "outputs": [
    {
     "name": "stdout",
     "output_type": "stream",
     "text": [
      "19/19 [==============================] - 15s 782ms/step\n",
      "              precision    recall  f1-score   support\n",
      "\n",
      "           0       0.51      0.52      0.51       307\n",
      "           1       0.44      0.43      0.44       273\n",
      "\n",
      "    accuracy                           0.48       580\n",
      "   macro avg       0.47      0.48      0.47       580\n",
      "weighted avg       0.48      0.48      0.48       580\n",
      "\n"
     ]
    }
   ],
   "source": [
    "train_generator.reset()\n",
    "preds = model.predict(train_generator, verbose=1)\n",
    "preds = np.argmax(preds, axis=1)\n",
    "print(classification_report(train_generator.classes, preds))"
   ]
  },
  {
   "cell_type": "code",
   "execution_count": null,
   "metadata": {
    "colab": {
     "base_uri": "https://localhost:8080/",
     "height": 298
    },
    "id": "qzU31T-tbAlj",
    "outputId": "d5f820ec-3282-4816-f4b7-9d11bd36d934"
   },
   "outputs": [
    {
     "data": {
      "image/png": "[encoded data removed]",
      "text/plain": [
       "<Figure size 432x288 with 1 Axes>"
      ]
     },
     "metadata": {
      "needs_background": "light",
      "tags": []
     },
     "output_type": "display_data"
    },
    {
     "data": {
      "text/plain": [
       "<Figure size 432x288 with 0 Axes>"
      ]
     },
     "metadata": {
      "tags": []
     },
     "output_type": "display_data"
    }
   ],
   "source": [
    "acc = history.history['accuracy']\n",
    "val_acc = history.history['val_accuracy']\n",
    "loss = history.history['loss']\n",
    "val_loss = history.history['val_loss']\n",
    "\n",
    "n_epochs = range(len(acc))\n",
    "\n",
    "plt.plot(n_epochs, acc, 'r', label='Training Accuracy')\n",
    "plt.plot(n_epochs, val_acc, 'b', label='Validation Accuracy')\n",
    "plt.title('Plot of accuracy')\n",
    "plt.legend(loc=1)\n",
    "plt.figure()\n",
    "\n",
    "plt.show()"
   ]
  },
  {
   "cell_type": "code",
   "execution_count": null,
   "metadata": {
    "id": "WjUsiBzLX_jm"
   },
   "outputs": [],
   "source": [
    "model.save('Mobile-model.h5')\n",
    "model.save_weights('Mobile-model-weights.h5')"
   ]
  },
  {
   "cell_type": "code",
   "execution_count": null,
   "metadata": {
    "id": "mRDEWuj9q2Cz"
   },
   "outputs": [],
   "source": []
  },
  {
   "cell_type": "code",
   "execution_count": null,
   "metadata": {
    "colab": {
     "base_uri": "https://localhost:8080/",
     "height": 185
    },
    "id": "lTk-BAQKq2hj",
    "outputId": "32dc46b7-3b76-4a3f-8c84-28536b713090"
   },
   "outputs": [
    {
     "name": "stdout",
     "output_type": "stream",
     "text": [
      "8/8 [==============================] - 4s 541ms/step\n",
      "              precision    recall  f1-score   support\n",
      "\n",
      "           0       0.48      0.50      0.49       121\n",
      "           1       0.51      0.49      0.50       128\n",
      "\n",
      "    accuracy                           0.50       249\n",
      "   macro avg       0.50      0.50      0.50       249\n",
      "weighted avg       0.50      0.50      0.50       249\n",
      "\n"
     ]
    }
   ],
   "source": [
    "validation_generator.reset()\n",
    "preds = model.predict(validation_generator, verbose=1)\n",
    "preds = np.argmax(preds, axis=1)\n",
    "print(classification_report(validation_generator.classes, preds))"
   ]
  },
  {
   "cell_type": "code",
   "execution_count": null,
   "metadata": {
    "colab": {
     "base_uri": "https://localhost:8080/",
     "height": 354
    },
    "id": "aoFMY7AUq34z",
    "outputId": "0395da0c-d035-4e42-8eb0-d62c6cb617c9"
   },
   "outputs": [
    {
     "name": "stdout",
     "output_type": "stream",
     "text": [
      "19/19 [==============================] - 16s 837ms/step\n"
     ]
    },
    {
     "ename": "ValueError",
     "evalue": "ignored",
     "output_type": "error",
     "traceback": [
      "\u001b[0;31m---------------------------------------------------------------------------\u001b[0m",
      "\u001b[0;31mValueError\u001b[0m                                Traceback (most recent call last)",
      "\u001b[0;32m<ipython-input-19-afd195ae3f6e>\u001b[0m in \u001b[0;36m<module>\u001b[0;34m()\u001b[0m\n\u001b[1;32m      2\u001b[0m \u001b[0mpreds\u001b[0m \u001b[0;34m=\u001b[0m \u001b[0mmodel\u001b[0m\u001b[0;34m.\u001b[0m\u001b[0mpredict\u001b[0m\u001b[0;34m(\u001b[0m\u001b[0mtrain_generator\u001b[0m\u001b[0;34m,\u001b[0m \u001b[0mverbose\u001b[0m\u001b[0;34m=\u001b[0m\u001b[0;36m1\u001b[0m\u001b[0;34m)\u001b[0m\u001b[0;34m\u001b[0m\u001b[0;34m\u001b[0m\u001b[0m\n\u001b[1;32m      3\u001b[0m \u001b[0mpreds\u001b[0m \u001b[0;34m=\u001b[0m \u001b[0mnp\u001b[0m\u001b[0;34m.\u001b[0m\u001b[0margmax\u001b[0m\u001b[0;34m(\u001b[0m\u001b[0mpreds\u001b[0m\u001b[0;34m,\u001b[0m \u001b[0maxis\u001b[0m\u001b[0;34m=\u001b[0m\u001b[0;36m1\u001b[0m\u001b[0;34m)\u001b[0m\u001b[0;34m\u001b[0m\u001b[0;34m\u001b[0m\u001b[0m\n\u001b[0;32m----> 4\u001b[0;31m \u001b[0mprint\u001b[0m\u001b[0;34m(\u001b[0m\u001b[0mclassification_report\u001b[0m\u001b[0;34m(\u001b[0m\u001b[0mvalidation_generator\u001b[0m\u001b[0;34m.\u001b[0m\u001b[0mclasses\u001b[0m\u001b[0;34m,\u001b[0m \u001b[0mpreds\u001b[0m\u001b[0;34m)\u001b[0m\u001b[0;34m)\u001b[0m\u001b[0;34m\u001b[0m\u001b[0;34m\u001b[0m\u001b[0m\n\u001b[0m",
      "\u001b[0;32m/usr/local/lib/python3.6/dist-packages/sklearn/metrics/_classification.py\u001b[0m in \u001b[0;36mclassification_report\u001b[0;34m(y_true, y_pred, labels, target_names, sample_weight, digits, output_dict, zero_division)\u001b[0m\n\u001b[1;32m   1969\u001b[0m     \"\"\"\n\u001b[1;32m   1970\u001b[0m \u001b[0;34m\u001b[0m\u001b[0m\n\u001b[0;32m-> 1971\u001b[0;31m     \u001b[0my_type\u001b[0m\u001b[0;34m,\u001b[0m \u001b[0my_true\u001b[0m\u001b[0;34m,\u001b[0m \u001b[0my_pred\u001b[0m \u001b[0;34m=\u001b[0m \u001b[0m_check_targets\u001b[0m\u001b[0;34m(\u001b[0m\u001b[0my_true\u001b[0m\u001b[0;34m,\u001b[0m \u001b[0my_pred\u001b[0m\u001b[0;34m)\u001b[0m\u001b[0;34m\u001b[0m\u001b[0;34m\u001b[0m\u001b[0m\n\u001b[0m\u001b[1;32m   1972\u001b[0m \u001b[0;34m\u001b[0m\u001b[0m\n\u001b[1;32m   1973\u001b[0m     \u001b[0mlabels_given\u001b[0m \u001b[0;34m=\u001b[0m \u001b[0;32mTrue\u001b[0m\u001b[0;34m\u001b[0m\u001b[0;34m\u001b[0m\u001b[0m\n",
      "\u001b[0;32m/usr/local/lib/python3.6/dist-packages/sklearn/metrics/_classification.py\u001b[0m in \u001b[0;36m_check_targets\u001b[0;34m(y_true, y_pred)\u001b[0m\n\u001b[1;32m     78\u001b[0m     \u001b[0my_pred\u001b[0m \u001b[0;34m:\u001b[0m \u001b[0marray\u001b[0m \u001b[0;32mor\u001b[0m \u001b[0mindicator\u001b[0m \u001b[0mmatrix\u001b[0m\u001b[0;34m\u001b[0m\u001b[0;34m\u001b[0m\u001b[0m\n\u001b[1;32m     79\u001b[0m     \"\"\"\n\u001b[0;32m---> 80\u001b[0;31m     \u001b[0mcheck_consistent_length\u001b[0m\u001b[0;34m(\u001b[0m\u001b[0my_true\u001b[0m\u001b[0;34m,\u001b[0m \u001b[0my_pred\u001b[0m\u001b[0;34m)\u001b[0m\u001b[0;34m\u001b[0m\u001b[0;34m\u001b[0m\u001b[0m\n\u001b[0m\u001b[1;32m     81\u001b[0m     \u001b[0mtype_true\u001b[0m \u001b[0;34m=\u001b[0m \u001b[0mtype_of_target\u001b[0m\u001b[0;34m(\u001b[0m\u001b[0my_true\u001b[0m\u001b[0;34m)\u001b[0m\u001b[0;34m\u001b[0m\u001b[0;34m\u001b[0m\u001b[0m\n\u001b[1;32m     82\u001b[0m     \u001b[0mtype_pred\u001b[0m \u001b[0;34m=\u001b[0m \u001b[0mtype_of_target\u001b[0m\u001b[0;34m(\u001b[0m\u001b[0my_pred\u001b[0m\u001b[0;34m)\u001b[0m\u001b[0;34m\u001b[0m\u001b[0;34m\u001b[0m\u001b[0m\n",
      "\u001b[0;32m/usr/local/lib/python3.6/dist-packages/sklearn/utils/validation.py\u001b[0m in \u001b[0;36mcheck_consistent_length\u001b[0;34m(*arrays)\u001b[0m\n\u001b[1;32m    210\u001b[0m     \u001b[0;32mif\u001b[0m \u001b[0mlen\u001b[0m\u001b[0;34m(\u001b[0m\u001b[0muniques\u001b[0m\u001b[0;34m)\u001b[0m \u001b[0;34m>\u001b[0m \u001b[0;36m1\u001b[0m\u001b[0;34m:\u001b[0m\u001b[0;34m\u001b[0m\u001b[0;34m\u001b[0m\u001b[0m\n\u001b[1;32m    211\u001b[0m         raise ValueError(\"Found input variables with inconsistent numbers of\"\n\u001b[0;32m--> 212\u001b[0;31m                          \" samples: %r\" % [int(l) for l in lengths])\n\u001b[0m\u001b[1;32m    213\u001b[0m \u001b[0;34m\u001b[0m\u001b[0m\n\u001b[1;32m    214\u001b[0m \u001b[0;34m\u001b[0m\u001b[0m\n",
      "\u001b[0;31mValueError\u001b[0m: Found input variables with inconsistent numbers of samples: [249, 580]"
     ]
    }
   ],
   "source": [
    "train_generator.reset()\n",
    "preds = model.predict(train_generator, verbose=1)\n",
    "preds = np.argmax(preds, axis=1)\n",
    "print(classification_report(train_generator.classes, preds))"
   ]
  },
  {
   "cell_type": "code",
   "execution_count": null,
   "metadata": {
    "colab": {
     "base_uri": "https://localhost:8080/",
     "height": 168
    },
    "id": "fA5KZT3rrKcx",
    "outputId": "4fa5e4eb-0199-46ee-b112-3974b0716b4a"
   },
   "outputs": [
    {
     "name": "stdout",
     "output_type": "stream",
     "text": [
      "              precision    recall  f1-score   support\n",
      "\n",
      "           0       0.54      0.56      0.55       307\n",
      "           1       0.49      0.47      0.48       273\n",
      "\n",
      "    accuracy                           0.52       580\n",
      "   macro avg       0.52      0.52      0.52       580\n",
      "weighted avg       0.52      0.52      0.52       580\n",
      "\n"
     ]
    }
   ],
   "source": []
  },
  {
   "cell_type": "code",
   "execution_count": null,
   "metadata": {
    "id": "0-I1i0K2q--3"
   },
   "outputs": [],
   "source": []
  }
 ],
 "metadata": {
  "accelerator": "GPU",
  "colab": {
   "collapsed_sections": [],
   "name": "Training Blood NoBlood (Colab).ipynb",
   "provenance": []
  },
  "kernelspec": {
   "display_name": "Python 3",
   "language": "python",
   "name": "python3"
  },
  "language_info": {
   "codemirror_mode": {
    "name": "ipython",
    "version": 3
   },
   "file_extension": ".py",
   "mimetype": "text/x-python",
   "name": "python",
   "nbconvert_exporter": "python",
   "pygments_lexer": "ipython3",
   "version": "3.7.5"
  }
 },
 "nbformat": 4,
 "nbformat_minor": 1
}
