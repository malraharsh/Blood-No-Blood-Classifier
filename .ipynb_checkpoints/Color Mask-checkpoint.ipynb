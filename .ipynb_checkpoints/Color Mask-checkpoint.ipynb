{
 "cells": [
  {
   "cell_type": "code",
   "execution_count": 21,
   "metadata": {},
   "outputs": [],
   "source": [
    "import cv2\n",
    "import numpy as np\n",
    "\n",
    "def do(frame):\n",
    "    \n",
    "#     red = frame[:, :, 2]\n",
    "#     frame[:,:,0] = 0\n",
    "#     frame[:,:,1] = 0\n",
    "    \n",
    "    while(1):\n",
    "    #     _, frame = cap.read()\n",
    "#         hsv = cv2.cvtColor(frame, cv2.COLOR_BGR2HSV)\n",
    "\n",
    "#         lower_red = np.array([15,50,50])\n",
    "#         upper_red = np.array([255,255,180])\n",
    "\n",
    "#         mask = cv2.inRange(hsv, lower_red, upper_red)\n",
    "#         res = cv2.bitwise_and(frame,frame, mask= mask)\n",
    "\n",
    "        cv2.imshow('frame',frame)\n",
    "#         cv2.imshow('mask',mask)\n",
    "#         cv2.imshow('res',res)\n",
    "\n",
    "        k = cv2.waitKey(5) & 0xFF\n",
    "        if k == 27 or k == 13:\n",
    "            break\n",
    "\n",
    "    cv2.destroyAllWindows()\n",
    "# cap.release()"
   ]
  },
  {
   "cell_type": "code",
   "execution_count": 33,
   "metadata": {},
   "outputs": [],
   "source": [
    "frame = cv2.imread('sample_blood.jpg')\n",
    "imb = cv2.imread('sample_blood.jpg')\n",
    "imnb = cv2.imread('sample.jpg')"
   ]
  },
  {
   "cell_type": "code",
   "execution_count": 12,
   "metadata": {},
   "outputs": [],
   "source": [
    "cv2.destroyAllWindows()"
   ]
  },
  {
   "cell_type": "code",
   "execution_count": 22,
   "metadata": {},
   "outputs": [],
   "source": [
    "img = cv2.imread('sample_blood.jpg')"
   ]
  },
  {
   "cell_type": "code",
   "execution_count": 24,
   "metadata": {},
   "outputs": [],
   "source": [
    "# img"
   ]
  },
  {
   "cell_type": "code",
   "execution_count": 43,
   "metadata": {},
   "outputs": [],
   "source": [
    "# img=cv2.imread(\"img.bmp\")a\n",
    "def ss(img):\n",
    "        # converting from BGR to HSV color space\n",
    "    hsv = cv2.cvtColor(img,cv2.COLOR_BGR2HSV)\n",
    "\n",
    "    # Range for lower red\n",
    "    lower_red = np.array([0,120,70])\n",
    "    upper_red = np.array([10,255,255])\n",
    "    mask1 = cv2.inRange(hsv, lower_red, upper_red)\n",
    "\n",
    "    # Range for upper range\n",
    "    lower_red = np.array([170,120,70])\n",
    "    upper_red = np.array([180,255,255])\n",
    "    mask2 = cv2.inRange(hsv,lower_red,upper_red)\n",
    "\n",
    "    # Generating the final mask to detect red color\n",
    "    mask = mask1+mask2\n",
    "    # set my output img to zero everywhere except my mask\n",
    "    output_img = img.copy()\n",
    "    output_img[np.where(mask==0)] = 0\n",
    "    do(output_img)\n",
    "    \n",
    "ss(imb)\n",
    "ss(imnb)"
   ]
  },
  {
   "cell_type": "code",
   "execution_count": null,
   "metadata": {},
   "outputs": [],
   "source": []
  }
 ],
 "metadata": {
  "kernelspec": {
   "display_name": "Python 3",
   "language": "python",
   "name": "python3"
  },
  "language_info": {
   "codemirror_mode": {
    "name": "ipython",
    "version": 3
   },
   "file_extension": ".py",
   "mimetype": "text/x-python",
   "name": "python",
   "nbconvert_exporter": "python",
   "pygments_lexer": "ipython3",
   "version": "3.7.5"
  }
 },
 "nbformat": 4,
 "nbformat_minor": 2
}
