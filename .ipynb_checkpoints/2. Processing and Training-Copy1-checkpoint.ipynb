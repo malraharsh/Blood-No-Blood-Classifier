{
 "cells": [
  {
   "cell_type": "code",
   "execution_count": 1,
   "metadata": {
    "id": "HuAjqB5RWkkQ"
   },
   "outputs": [],
   "source": [
    "import argparse\n",
    "import os\n",
    "import random\n",
    "\n",
    "import numpy as np\n",
    "import pandas as pd\n",
    "import matplotlib.pyplot as plt\n",
    "from PIL import Image\n",
    "import zipfile\n",
    "\n",
    "from sklearn.metrics import (accuracy_score, classification_report,confusion_matrix)\n",
    "from sklearn.model_selection import train_test_split\n",
    "# from sklearn.preprocessing import LabelBinarizer\n",
    "from tensorflow.keras.applications import MobileNetV2\n",
    "from tensorflow.keras.applications.mobilenet_v2 import preprocess_input\n",
    "from tensorflow.keras.layers import (AveragePooling2D, Dense, Dropout, Flatten, Input, MaxPooling2D)\n",
    "from tensorflow.keras.models import Model, load_model, Sequential\n",
    "from tensorflow.keras.optimizers import Adam\n",
    "from tensorflow.keras.preprocessing.image import (ImageDataGenerator,img_to_array, load_img)\n",
    "from tensorflow.keras.utils import to_categorical"
   ]
  },
  {
   "cell_type": "code",
   "execution_count": 2,
   "metadata": {},
   "outputs": [],
   "source": [
    "from utils import *\n",
    "%load_ext autoreload\n",
    "%autoreload 2"
   ]
  },
  {
   "cell_type": "code",
   "execution_count": null,
   "metadata": {
    "id": "C3OaXrcdfq1E"
   },
   "outputs": [],
   "source": [
    "# zipf = zipfile.ZipFile('/content/drive/My Drive/Others/Blood_noblood.zip','r')\n",
    "# zipf.extractall('/content/')\n",
    "# zipf.close()"
   ]
  },
  {
   "cell_type": "code",
   "execution_count": 48,
   "metadata": {
    "id": "zVTnxrHsX7Li"
   },
   "outputs": [],
   "source": [
    "data_dir = 'Data/Blood_noblood'#_processed'\n",
    "blood_dir = os.path.join(data_dir, 'blood')\n",
    "noblood_dir = os.path.join(data_dir, 'noblood')"
   ]
  },
  {
   "cell_type": "code",
   "execution_count": 55,
   "metadata": {
    "colab": {
     "base_uri": "https://localhost:8080/",
     "height": 50
    },
    "id": "NRMskf8hY0-P",
    "outputId": "7d75d5ed-49bd-48b7-b1be-f502bd9a54c7"
   },
   "outputs": [
    {
     "name": "stdout",
     "output_type": "stream",
     "text": [
      "Removed 0\n",
      "Removed 9\n"
     ]
    }
   ],
   "source": [
    "df_blood = pd.DataFrame({'files': getFiles(blood_dir), 'labels': '1'})\n",
    "df_noblood = pd.DataFrame({'files': getFiles(noblood_dir), 'labels': '0'})\n",
    "\n",
    "# corrupted_blood = getCorrupted(df_blood)\n",
    "# corrupted_noblood = getCorrupted(df_noblood)\n",
    "\n",
    "corrupted_blood = []\n",
    "corrupted_noblood = ['Data/Blood_noblood\\\\noblood\\\\noblood_111.jpg', 'Data/Blood_noblood\\\\noblood\\\\noblood_115.jpg', 'Data/Blood_noblood\\\\noblood\\\\noblood_123.jpg', 'Data/Blood_noblood\\\\noblood\\\\noblood_16.jpg', 'Data/Blood_noblood\\\\noblood\\\\noblood_208.jpg', 'Data/Blood_noblood\\\\noblood\\\\noblood_240.jpg', 'Data/Blood_noblood\\\\noblood\\\\noblood_305.jpg', 'Data/Blood_noblood\\\\noblood\\\\noblood_336.jpg', 'Data/Blood_noblood\\\\noblood\\\\noblood_68.jpg']\n",
    "\n",
    "df_blood = removeCorrupted(df_blood, corrupted_blood)\n",
    "df_noblood = removeCorrupted(df_noblood, corrupted_noblood)"
   ]
  },
  {
   "cell_type": "code",
   "execution_count": 56,
   "metadata": {
    "colab": {
     "base_uri": "https://localhost:8080/",
     "height": 195
    },
    "id": "t2Emg1cYY9G9",
    "outputId": "f3cc50c7-f9be-4fd8-a52e-965ef5b221ac"
   },
   "outputs": [
    {
     "data": {
      "text/html": [
       "<div>\n",
       "<style scoped>\n",
       "    .dataframe tbody tr th:only-of-type {\n",
       "        vertical-align: middle;\n",
       "    }\n",
       "\n",
       "    .dataframe tbody tr th {\n",
       "        vertical-align: top;\n",
       "    }\n",
       "\n",
       "    .dataframe thead th {\n",
       "        text-align: right;\n",
       "    }\n",
       "</style>\n",
       "<table border=\"1\" class=\"dataframe\">\n",
       "  <thead>\n",
       "    <tr style=\"text-align: right;\">\n",
       "      <th></th>\n",
       "      <th>files</th>\n",
       "      <th>labels</th>\n",
       "    </tr>\n",
       "  </thead>\n",
       "  <tbody>\n",
       "    <tr>\n",
       "      <th>0</th>\n",
       "      <td>Data/Blood_noblood\\blood\\blood_0.jpg</td>\n",
       "      <td>1</td>\n",
       "    </tr>\n",
       "    <tr>\n",
       "      <th>1</th>\n",
       "      <td>Data/Blood_noblood\\blood\\blood_1.jpg</td>\n",
       "      <td>1</td>\n",
       "    </tr>\n",
       "    <tr>\n",
       "      <th>2</th>\n",
       "      <td>Data/Blood_noblood\\blood\\blood_10.jpg</td>\n",
       "      <td>1</td>\n",
       "    </tr>\n",
       "    <tr>\n",
       "      <th>3</th>\n",
       "      <td>Data/Blood_noblood\\blood\\blood_100.jpg</td>\n",
       "      <td>1</td>\n",
       "    </tr>\n",
       "    <tr>\n",
       "      <th>4</th>\n",
       "      <td>Data/Blood_noblood\\blood\\blood_101.jpg</td>\n",
       "      <td>1</td>\n",
       "    </tr>\n",
       "  </tbody>\n",
       "</table>\n",
       "</div>"
      ],
      "text/plain": [
       "                                    files labels\n",
       "0    Data/Blood_noblood\\blood\\blood_0.jpg      1\n",
       "1    Data/Blood_noblood\\blood\\blood_1.jpg      1\n",
       "2   Data/Blood_noblood\\blood\\blood_10.jpg      1\n",
       "3  Data/Blood_noblood\\blood\\blood_100.jpg      1\n",
       "4  Data/Blood_noblood\\blood\\blood_101.jpg      1"
      ]
     },
     "execution_count": 56,
     "metadata": {},
     "output_type": "execute_result"
    }
   ],
   "source": [
    "df = pd.concat([df_blood, df_noblood])\n",
    "df.reset_index(drop=True, inplace=True)\n",
    "df.head()"
   ]
  },
  {
   "cell_type": "code",
   "execution_count": 51,
   "metadata": {
    "colab": {
     "base_uri": "https://localhost:8080/",
     "height": 300
    },
    "id": "9_DXDcPuY-rZ",
    "outputId": "a6f0e63b-2352-4a94-e71e-6d4a0859776b"
   },
   "outputs": [],
   "source": [
    "IMAGE_WIDTH=224\n",
    "IMAGE_HEIGHT=224\n",
    "IMAGE_CHANNELS=3\n",
    "IMAGE_SIZE=(IMAGE_WIDTH, IMAGE_HEIGHT)\n",
    "IMAGE_SHAPE=(IMAGE_WIDTH, IMAGE_HEIGHT, IMAGE_CHANNELS)"
   ]
  },
  {
   "cell_type": "code",
   "execution_count": 57,
   "metadata": {
    "colab": {
     "base_uri": "https://localhost:8080/",
     "height": 300
    },
    "id": "9_DXDcPuY-rZ",
    "outputId": "a6f0e63b-2352-4a94-e71e-6d4a0859776b"
   },
   "outputs": [],
   "source": [
    "train_df, val_df = train_test_split(df, test_size=0.20, random_state=123)\n",
    "train_df = train_df.reset_index(drop=True)\n",
    "val_df = val_df.reset_index(drop=True)\n",
    "\n",
    "size_train = train_df.shape[0]\n",
    "size_val = val_df.shape[0]\n",
    "BATCH_SIZE = 32"
   ]
  },
  {
   "cell_type": "code",
   "execution_count": 58,
   "metadata": {},
   "outputs": [
    {
     "name": "stdout",
     "output_type": "stream",
     "text": [
      "Found 656 validated image filenames belonging to 2 classes.\n",
      "Found 165 validated image filenames belonging to 2 classes.\n"
     ]
    }
   ],
   "source": [
    "train_datagen = ImageDataGenerator(\n",
    "    rotation_range=20,\n",
    "    rescale=1./255,\n",
    "    shear_range=0.1,\n",
    "    zoom_range=0.25,\n",
    "    horizontal_flip=True,\n",
    "    width_shift_range=0.1,\n",
    "    height_shift_range=0.1\n",
    ")\n",
    "\n",
    "train_generator = train_datagen.flow_from_dataframe(\n",
    "    train_df,\n",
    "    x_col='files',\n",
    "    y_col='labels',\n",
    "    target_size=IMAGE_SIZE,\n",
    "    class_mode='binary',\n",
    "    batch_size=BATCH_SIZE\n",
    ")\n",
    "\n",
    "validation_datagen = ImageDataGenerator(rescale=1./255)\n",
    "validation_generator = validation_datagen.flow_from_dataframe(\n",
    "    val_df, \n",
    "    x_col='files',\n",
    "    y_col='labels',\n",
    "    target_size=IMAGE_SIZE,\n",
    "    class_mode='binary',\n",
    "    batch_size=BATCH_SIZE\n",
    ")"
   ]
  },
  {
   "cell_type": "code",
   "execution_count": null,
   "metadata": {},
   "outputs": [],
   "source": []
  },
  {
   "cell_type": "code",
   "execution_count": 21,
   "metadata": {
    "colab": {
     "base_uri": "https://localhost:8080/",
     "height": 54
    },
    "id": "Paa2zrWCZD-F",
    "outputId": "64daf923-5db7-402c-c90f-3627efa91f4a"
   },
   "outputs": [],
   "source": [
    "base = MobileNetV2(input_tensor=Input(shape=(224, 224, 3)), weights=\"imagenet\", include_top=False)"
   ]
  },
  {
   "cell_type": "code",
   "execution_count": 28,
   "metadata": {
    "colab": {
     "base_uri": "https://localhost:8080/",
     "height": 353
    },
    "id": "BGRUG_3TZk3T",
    "outputId": "238b21fb-08ae-4883-901c-f993ef40323c"
   },
   "outputs": [
    {
     "name": "stdout",
     "output_type": "stream",
     "text": [
      "Model: \"sequential_3\"\n",
      "_________________________________________________________________\n",
      "Layer (type)                 Output Shape              Param #   \n",
      "=================================================================\n",
      "mobilenetv2_1.00_224 (Model) (None, 7, 7, 1280)        2257984   \n",
      "_________________________________________________________________\n",
      "max_pooling2d_3 (MaxPooling2 (None, 1, 1, 1280)        0         \n",
      "_________________________________________________________________\n",
      "flatten_3 (Flatten)          (None, 1280)              0         \n",
      "_________________________________________________________________\n",
      "dense_8 (Dense)              (None, 128)               163968    \n",
      "_________________________________________________________________\n",
      "dropout_5 (Dropout)          (None, 128)               0         \n",
      "_________________________________________________________________\n",
      "dense_9 (Dense)              (None, 128)               16512     \n",
      "_________________________________________________________________\n",
      "dropout_6 (Dropout)          (None, 128)               0         \n",
      "_________________________________________________________________\n",
      "dense_10 (Dense)             (None, 1)                 129       \n",
      "=================================================================\n",
      "Total params: 2,438,593\n",
      "Trainable params: 180,609\n",
      "Non-trainable params: 2,257,984\n",
      "_________________________________________________________________\n"
     ]
    }
   ],
   "source": [
    "model = Sequential()\n",
    "model.add(base)\n",
    "model.add(MaxPooling2D(pool_size=(5, 5)))\n",
    "model.add(Flatten())\n",
    "model.add(Dense(128, activation=\"relu\"))\n",
    "model.add(Dropout(0.4))\n",
    "model.add(Dense(128, activation=\"relu\"))\n",
    "model.add(Dropout(0.4))\n",
    "model.add(Dense(1, activation=\"sigmoid\"))\n",
    "\n",
    "base.trainable = False\n",
    "          \n",
    "optimizer = Adam(lr=1e-4)\n",
    "model.compile(loss=\"binary_crossentropy\", optimizer=optimizer, metrics=[\"accuracy\"])\n",
    "model.summary()"
   ]
  },
  {
   "cell_type": "code",
   "execution_count": 24,
   "metadata": {
    "colab": {
     "base_uri": "https://localhost:8080/",
     "height": 1000
    },
    "id": "2jzdXxs7ZItt",
    "outputId": "3dfc0851-6069-4e10-974d-a0b595ef5a75"
   },
   "outputs": [],
   "source": [
    "# EPOCHS = 5\n",
    "# history = model.fit(\n",
    "#             train_generator,\n",
    "#             validation_data = validation_generator,\n",
    "#             epochs = EPOCHS,\n",
    "#             validation_steps=1,\n",
    "#             verbose=2)"
   ]
  },
  {
   "cell_type": "code",
   "execution_count": null,
   "metadata": {},
   "outputs": [],
   "source": []
  },
  {
   "cell_type": "code",
   "execution_count": null,
   "metadata": {},
   "outputs": [],
   "source": []
  },
  {
   "cell_type": "code",
   "execution_count": 42,
   "metadata": {},
   "outputs": [
    {
     "name": "stdout",
     "output_type": "stream",
     "text": [
      "Train for 8 steps, validate for 8 steps\n",
      "Epoch 1/10\n",
      "8/8 - 26s - loss: 0.5373 - accuracy: 0.7100 - val_loss: 0.9264 - val_accuracy: 0.6050\n",
      "Epoch 2/10\n",
      "8/8 - 25s - loss: 0.5633 - accuracy: 0.7750 - val_loss: 0.9208 - val_accuracy: 0.6050\n",
      "Epoch 3/10\n",
      "8/8 - 25s - loss: 0.6348 - accuracy: 0.7050 - val_loss: 0.8781 - val_accuracy: 0.6100\n",
      "Epoch 4/10\n",
      "8/8 - 25s - loss: 0.5970 - accuracy: 0.6950 - val_loss: 0.8621 - val_accuracy: 0.6200\n",
      "Epoch 5/10\n",
      "8/8 - 26s - loss: 0.5131 - accuracy: 0.7739 - val_loss: 0.9301 - val_accuracy: 0.6100\n",
      "Epoch 6/10\n",
      "8/8 - 26s - loss: 0.5499 - accuracy: 0.7450 - val_loss: 0.9439 - val_accuracy: 0.6200\n",
      "Epoch 7/10\n",
      "8/8 - 27s - loss: 0.5607 - accuracy: 0.7136 - val_loss: 0.9602 - val_accuracy: 0.6200\n",
      "Epoch 8/10\n",
      "8/8 - 26s - loss: 0.5353 - accuracy: 0.7550 - val_loss: 0.9566 - val_accuracy: 0.6150\n",
      "Epoch 9/10\n",
      "8/8 - 24s - loss: 0.4698 - accuracy: 0.7638 - val_loss: 1.0093 - val_accuracy: 0.6050\n",
      "Epoch 10/10\n",
      "8/8 - 25s - loss: 0.5488 - accuracy: 0.7500 - val_loss: 1.0042 - val_accuracy: 0.6050\n"
     ]
    }
   ],
   "source": [
    "EPOCHS = 10 #10 20\n",
    "history = model.fit(\n",
    "            train_generator,\n",
    "            steps_per_epoch=size_val // BATCH_SIZE,\n",
    "            validation_data = validation_generator,\n",
    "            epochs = EPOCHS,\n",
    "            validation_steps=size_val // BATCH_SIZE,\n",
    "            verbose=2)"
   ]
  },
  {
   "cell_type": "code",
   "execution_count": 46,
   "metadata": {},
   "outputs": [
    {
     "data": {
      "text/plain": [
       "[0.8739643684455327, 0.64416474]"
      ]
     },
     "execution_count": 46,
     "metadata": {},
     "output_type": "execute_result"
    }
   ],
   "source": [
    "model.evaluate_generator(train_generator, verbose=2)"
   ]
  },
  {
   "cell_type": "code",
   "execution_count": 47,
   "metadata": {},
   "outputs": [
    {
     "name": "stdout",
     "output_type": "stream",
     "text": [
      "9/9 - 3s - loss: 0.9672 - accuracy: 0.6073\n"
     ]
    },
    {
     "data": {
      "text/plain": [
       "[0.9671614368756613, 0.60730594]"
      ]
     },
     "execution_count": 47,
     "metadata": {},
     "output_type": "execute_result"
    }
   ],
   "source": [
    "model.evaluate_generator(validation_generator, verbose=2)"
   ]
  },
  {
   "cell_type": "code",
   "execution_count": 43,
   "metadata": {},
   "outputs": [
    {
     "name": "stdout",
     "output_type": "stream",
     "text": [
      "35/35 [==============================] - 26s 730ms/step\n",
      "              precision    recall  f1-score   support\n",
      "\n",
      "           0       0.62      1.00      0.77       545\n",
      "           1       0.00      0.00      0.00       329\n",
      "\n",
      "    accuracy                           0.62       874\n",
      "   macro avg       0.31      0.50      0.38       874\n",
      "weighted avg       0.39      0.62      0.48       874\n",
      "\n"
     ]
    }
   ],
   "source": [
    "train_generator.reset()\n",
    "preds = model.predict(train_generator, verbose=1)\n",
    "preds = np.argmax(preds, axis=1)\n",
    "print(classification_report(train_generator.classes, preds))"
   ]
  },
  {
   "cell_type": "code",
   "execution_count": 44,
   "metadata": {},
   "outputs": [
    {
     "name": "stdout",
     "output_type": "stream",
     "text": [
      "9/9 [==============================] - 2s 269ms/step\n",
      "              precision    recall  f1-score   support\n",
      "\n",
      "           0       0.59      1.00      0.74       130\n",
      "           1       0.00      0.00      0.00        89\n",
      "\n",
      "    accuracy                           0.59       219\n",
      "   macro avg       0.30      0.50      0.37       219\n",
      "weighted avg       0.35      0.59      0.44       219\n",
      "\n"
     ]
    }
   ],
   "source": [
    "validation_generator.reset()\n",
    "preds = model.predict(validation_generator, verbose=1)\n",
    "preds = np.argmax(preds, axis=1)\n",
    "print(classification_report(validation_generator.classes, preds))"
   ]
  },
  {
   "cell_type": "code",
   "execution_count": 35,
   "metadata": {
    "colab": {
     "base_uri": "https://localhost:8080/",
     "height": 298
    },
    "id": "qzU31T-tbAlj",
    "outputId": "74e9d3d9-ad37-4fc0-a48c-44f197dac4c6"
   },
   "outputs": [
    {
     "data": {
      "image/png": "[encoded data removed]",
      "text/plain": [
       "<Figure size 432x288 with 1 Axes>"
      ]
     },
     "metadata": {
      "needs_background": "light"
     },
     "output_type": "display_data"
    },
    {
     "data": {
      "text/plain": [
       "<Figure size 432x288 with 0 Axes>"
      ]
     },
     "metadata": {},
     "output_type": "display_data"
    }
   ],
   "source": [
    "import matplotlib.pyplot as plt\n",
    "acc = history.history['accuracy']\n",
    "val_acc = history.history['val_accuracy']\n",
    "loss = history.history['loss']\n",
    "val_loss = history.history['val_loss']\n",
    "\n",
    "n_epochs = range(len(acc))\n",
    "\n",
    "plt.plot(n_epochs, acc, 'r', label='Training accuracy')\n",
    "plt.plot(n_epochs, val_acc, 'b', label='Validation accuracy')\n",
    "plt.title('Training and validation Accuracy')\n",
    "plt.legend(loc=0)\n",
    "plt.figure()\n",
    "\n",
    "plt.show()"
   ]
  },
  {
   "cell_type": "code",
   "execution_count": 62,
   "metadata": {
    "id": "WjUsiBzLX_jm"
   },
   "outputs": [],
   "source": [
    "name = 'Mobile-orig-and-processed'\n",
    "model.save(f'{name}.h5')\n",
    "model.save_weights(f'{name}-weights.h5')"
   ]
  },
  {
   "cell_type": "code",
   "execution_count": null,
   "metadata": {
    "id": "uOEX06lbjY4x"
   },
   "outputs": [],
   "source": []
  },
  {
   "cell_type": "markdown",
   "metadata": {},
   "source": [
    "## Testing"
   ]
  },
  {
   "cell_type": "code",
   "execution_count": null,
   "metadata": {},
   "outputs": [],
   "source": [
    "validation_generator.reset()\n",
    "preds = model.predict(validation_generator, verbose=1)\n",
    "preds = np.argmax(preds, axis=1)\n",
    "print(classification_report(validation_generator.classes, preds))"
   ]
  },
  {
   "cell_type": "code",
   "execution_count": null,
   "metadata": {},
   "outputs": [],
   "source": []
  },
  {
   "cell_type": "code",
   "execution_count": 9,
   "metadata": {},
   "outputs": [
    {
     "name": "stderr",
     "output_type": "stream",
     "text": [
      "C:\\ProgramData\\Anaconda3\\envs\\tensorflow_gpuenv\\lib\\site-packages\\keras_applications\\mobilenet_v2.py:294: UserWarning: `input_shape` is undefined or non-square, or `rows` is not in [96, 128, 160, 192, 224]. Weights for input shape (224, 224) will be loaded as the default.\n",
      "  warnings.warn('`input_shape` is undefined or non-square, '\n"
     ]
    }
   ],
   "source": [
    "model = get_model()\n",
    "model.load_weights('Mobile-epochs-4-weights.h5')"
   ]
  },
  {
   "cell_type": "code",
   "execution_count": 42,
   "metadata": {
    "scrolled": false
   },
   "outputs": [
    {
     "name": "stdout",
     "output_type": "stream",
     "text": [
      "32/32 - 36s - loss: 0.1153 - accuracy: 0.9577\n"
     ]
    },
    {
     "data": {
      "text/plain": [
       "[0.11529749043984339, 0.9577465]"
      ]
     },
     "execution_count": 42,
     "metadata": {},
     "output_type": "execute_result"
    }
   ],
   "source": [
    "eval_train = model.evaluate_generator(train_generator, steps=32, verbose=2)\n",
    "eval_train"
   ]
  },
  {
   "cell_type": "code",
   "execution_count": 65,
   "metadata": {},
   "outputs": [
    {
     "name": "stdout",
     "output_type": "stream",
     "text": [
      "32/32 - 27s - loss: 0.1758 - accuracy: 0.9461\n"
     ]
    },
    {
     "data": {
      "text/plain": [
       "[0.17580798448761925, 0.9460526]"
      ]
     },
     "execution_count": 65,
     "metadata": {},
     "output_type": "execute_result"
    }
   ],
   "source": [
    "eval_validation = model.evaluate_generator(validation_generator, steps=32, verbose=2)\n",
    "eval_validation"
   ]
  },
  {
   "cell_type": "code",
   "execution_count": null,
   "metadata": {},
   "outputs": [],
   "source": []
  },
  {
   "cell_type": "code",
   "execution_count": null,
   "metadata": {},
   "outputs": [],
   "source": []
  },
  {
   "cell_type": "code",
   "execution_count": null,
   "metadata": {},
   "outputs": [],
   "source": []
  },
  {
   "cell_type": "code",
   "execution_count": null,
   "metadata": {},
   "outputs": [],
   "source": []
  }
 ],
 "metadata": {
  "accelerator": "GPU",
  "colab": {
   "collapsed_sections": [],
   "name": "Training Blood NoBlood (Colab).ipynb",
   "provenance": []
  },
  "kernelspec": {
   "display_name": "Python 3",
   "language": "python",
   "name": "python3"
  },
  "language_info": {
   "codemirror_mode": {
    "name": "ipython",
    "version": 3
   },
   "file_extension": ".py",
   "mimetype": "text/x-python",
   "name": "python",
   "nbconvert_exporter": "python",
   "pygments_lexer": "ipython3",
   "version": "3.7.5"
  }
 },
 "nbformat": 4,
 "nbformat_minor": 1
}
